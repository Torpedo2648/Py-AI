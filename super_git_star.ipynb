{
 "cells": [
  {
   "cell_type": "markdown",
   "metadata": {},
   "source": [
    "# Super (Git) Star\n",
    "\n",
    "将爬取的GitHub数据划分为80%训练集和20%测试集。训练一个线性模型，基于其他属性，尝试预测项目获得的星标数。\n",
    "\n",
    "1. 划分数据集\n",
    "2. 选择/预处理特征\n",
    "3. 训练模型\n",
    "4. 测试模型\n",
    "5. 尝试分析结果"
   ]
  },
  {
   "cell_type": "code",
   "execution_count": 84,
   "metadata": {},
   "outputs": [],
   "source": [
    "import pandas as pd\n",
    "import numpy as np"
   ]
  },
  {
   "cell_type": "markdown",
   "metadata": {},
   "source": [
    "# 0.数据预览"
   ]
  },
  {
   "cell_type": "code",
   "execution_count": 85,
   "metadata": {},
   "outputs": [
    {
     "name": "stderr",
     "output_type": "stream",
     "text": [
      "c:\\Users\\Administrator\\AppData\\Local\\Programs\\Python\\Python310\\lib\\site-packages\\seaborn\\distributions.py:2619: FutureWarning: `distplot` is a deprecated function and will be removed in a future version. Please adapt your code to use either `displot` (a figure-level function with similar flexibility) or `histplot` (an axes-level function for histograms).\n",
      "  warnings.warn(msg, FutureWarning)\n"
     ]
    },
    {
     "data": {
      "image/png": "[encoded data removed]",
      "text/plain": [
       "<Figure size 432x288 with 1 Axes>"
      ]
     },
     "metadata": {},
     "output_type": "display_data"
    }
   ],
   "source": [
    "import matplotlib.pyplot as plt\n",
    "import seaborn as sns\n",
    "\n",
    "def draw_distribution_histogram(nums, path, is_hist=True, is_kde=True, is_rug=False, \\\n",
    "  is_vertical=False, is_norm_hist=False):\n",
    "  \"\"\"\n",
    "\n",
    "  bins: 设置直方图条形的数目\n",
    "  is_hist: 是否绘制直方图\n",
    "  is_kde: 是否绘制核密度图\n",
    "  is_rug: 是否绘制生成观测数值的小细条\n",
    "  is_vertical: 如果为True，观察值在y轴上\n",
    "  is_norm_hist: 如果为True，直方图高度显示一个密度而不是一个计数，如果kde设置为True，则此参数一定为True\n",
    "  \"\"\"\n",
    "  sns.set()  #切换到sns的默认运行配置\n",
    "  sns.distplot(\n",
    "    nums, bins=10, hist=is_hist, kde=is_kde, rug=is_rug, \n",
    "    hist_kws={\"color\":\"steelblue\"}, kde_kws={\"color\":\"purple\"},\n",
    "    vertical=is_vertical, norm_hist=is_norm_hist\n",
    "  )\n",
    "  #添加x轴和y轴标签\n",
    "  plt.xlabel(\"XXX\")\n",
    "  plt.ylabel(\"YYY\")\n",
    "\n",
    "  #添加标题\n",
    "  plt.title(\"Distribution\")\n",
    "  plt.tight_layout()  # 处理显示不完整的问题\n",
    "  plt.savefig(path, dpi=300)\n",
    "\n",
    "data = pd.read_csv('GithubSpiderProMax\\info7.csv')\n",
    "label = []\n",
    "for i, star in enumerate(data['stars']):\n",
    "    if star > 30000:\n",
    "        label.append(i)\n",
    "path = \"distribution.jpg\"\n",
    "x = data['stars'].drop(label)\n",
    "draw_distribution_histogram(x, path, is_hist=True, is_kde=False, is_norm_hist=False)"
   ]
  },
  {
   "cell_type": "markdown",
   "metadata": {},
   "source": [
    "## 1. 划分数据集"
   ]
  },
  {
   "cell_type": "code",
   "execution_count": 86,
   "metadata": {},
   "outputs": [
    {
     "data": {
      "text/plain": [
       "241    0.044991\n",
       "223    0.047182\n",
       "636    0.017440\n",
       "178    0.055689\n",
       "293    0.039382\n",
       "         ...   \n",
       "527    0.021713\n",
       "431    0.027680\n",
       "826    0.013564\n",
       "659    0.016744\n",
       "532    0.021390\n",
       "Name: stars, Length: 965, dtype: float64"
      ]
     },
     "execution_count": 86,
     "metadata": {},
     "output_type": "execute_result"
    }
   ],
   "source": [
    "# split into train and test\n",
    "data = data.sample(frac=1)\n",
    "def split_data(data, train_rate=0.8):\n",
    "    train = data[:int(train_rate*data.shape[0])]\n",
    "    test = data[int(train_rate*data.shape[0] + 1):]\n",
    "    return train, test\n",
    "\n",
    "train_set, test_set = split_data(data)\n",
    "data['stars'].map(lambda x : x/max(data['stars']))"
   ]
  },
  {
   "cell_type": "markdown",
   "metadata": {},
   "source": [
    "## 2. 选择/预处理特征"
   ]
  },
  {
   "cell_type": "code",
   "execution_count": 87,
   "metadata": {},
   "outputs": [
    {
     "data": {
      "text/plain": [
       "((772, 8), (772,))"
      ]
     },
     "execution_count": 87,
     "metadata": {},
     "output_type": "execute_result"
    }
   ],
   "source": [
    "def get_features(data):\n",
    "    columns = [\n",
    "        data['stars'],data['forks'],data['release'],data['contributors'],data['branches'],\n",
    "        data['open_issues'],data['closed_issues'],data['open_pulls'],data['closed_pulls']\n",
    "    ]\n",
    "    targets = columns[0]\n",
    "    # targets = targets.map(lambda x : x/max(columns[0]))\n",
    "    features = pd.concat(columns[1:], axis=1)\n",
    "    return np.array(features), np.array(targets)\n",
    "\n",
    "train_set_features, train_set_targets = get_features(train_set)\n",
    "test_set_features, test_set_targets = get_features(test_set)\n",
    "\n",
    "train_set_features.shape, train_set_targets.shape"
   ]
  },
  {
   "cell_type": "markdown",
   "metadata": {},
   "source": [
    "## 3. 训练模型\n"
   ]
  },
  {
   "cell_type": "code",
   "execution_count": 88,
   "metadata": {},
   "outputs": [
    {
     "data": {
      "text/html": [
       "<style>#sk-container-id-19 {color: black;background-color: white;}#sk-container-id-19 pre{padding: 0;}#sk-container-id-19 div.sk-toggleable {background-color: white;}#sk-container-id-19 label.sk-toggleable__label {cursor: pointer;display: block;width: 100%;margin-bottom: 0;padding: 0.3em;box-sizing: border-box;text-align: center;}#sk-container-id-19 label.sk-toggleable__label-arrow:before {content: \"▸\";float: left;margin-right: 0.25em;color: #696969;}#sk-container-id-19 label.sk-toggleable__label-arrow:hover:before {color: black;}#sk-container-id-19 div.sk-estimator:hover label.sk-toggleable__label-arrow:before {color: black;}#sk-container-id-19 div.sk-toggleable__content {max-height: 0;max-width: 0;overflow: hidden;text-align: left;background-color: #f0f8ff;}#sk-container-id-19 div.sk-toggleable__content pre {margin: 0.2em;color: black;border-radius: 0.25em;background-color: #f0f8ff;}#sk-container-id-19 input.sk-toggleable__control:checked~div.sk-toggleable__content {max-height: 200px;max-width: 100%;overflow: auto;}#sk-container-id-19 input.sk-toggleable__control:checked~label.sk-toggleable__label-arrow:before {content: \"▾\";}#sk-container-id-19 div.sk-estimator input.sk-toggleable__control:checked~label.sk-toggleable__label {background-color: #d4ebff;}#sk-container-id-19 div.sk-label input.sk-toggleable__control:checked~label.sk-toggleable__label {background-color: #d4ebff;}#sk-container-id-19 input.sk-hidden--visually {border: 0;clip: rect(1px 1px 1px 1px);clip: rect(1px, 1px, 1px, 1px);height: 1px;margin: -1px;overflow: hidden;padding: 0;position: absolute;width: 1px;}#sk-container-id-19 div.sk-estimator {font-family: monospace;background-color: #f0f8ff;border: 1px dotted black;border-radius: 0.25em;box-sizing: border-box;margin-bottom: 0.5em;}#sk-container-id-19 div.sk-estimator:hover {background-color: #d4ebff;}#sk-container-id-19 div.sk-parallel-item::after {content: \"\";width: 100%;border-bottom: 1px solid gray;flex-grow: 1;}#sk-container-id-19 div.sk-label:hover label.sk-toggleable__label {background-color: #d4ebff;}#sk-container-id-19 div.sk-serial::before {content: \"\";position: absolute;border-left: 1px solid gray;box-sizing: border-box;top: 0;bottom: 0;left: 50%;z-index: 0;}#sk-container-id-19 div.sk-serial {display: flex;flex-direction: column;align-items: center;background-color: white;padding-right: 0.2em;padding-left: 0.2em;position: relative;}#sk-container-id-19 div.sk-item {position: relative;z-index: 1;}#sk-container-id-19 div.sk-parallel {display: flex;align-items: stretch;justify-content: center;background-color: white;position: relative;}#sk-container-id-19 div.sk-item::before, #sk-container-id-19 div.sk-parallel-item::before {content: \"\";position: absolute;border-left: 1px solid gray;box-sizing: border-box;top: 0;bottom: 0;left: 50%;z-index: -1;}#sk-container-id-19 div.sk-parallel-item {display: flex;flex-direction: column;z-index: 1;position: relative;background-color: white;}#sk-container-id-19 div.sk-parallel-item:first-child::after {align-self: flex-end;width: 50%;}#sk-container-id-19 div.sk-parallel-item:last-child::after {align-self: flex-start;width: 50%;}#sk-container-id-19 div.sk-parallel-item:only-child::after {width: 0;}#sk-container-id-19 div.sk-dashed-wrapped {border: 1px dashed gray;margin: 0 0.4em 0.5em 0.4em;box-sizing: border-box;padding-bottom: 0.4em;background-color: white;}#sk-container-id-19 div.sk-label label {font-family: monospace;font-weight: bold;display: inline-block;line-height: 1.2em;}#sk-container-id-19 div.sk-label-container {text-align: center;}#sk-container-id-19 div.sk-container {/* jupyter's `normalize.less` sets `[hidden] { display: none; }` but bootstrap.min.css set `[hidden] { display: none !important; }` so we also need the `!important` here to be able to override the default hidden behavior on the sphinx rendered scikit-learn.org. See: https://github.com/scikit-learn/scikit-learn/issues/21755 */display: inline-block !important;position: relative;}#sk-container-id-19 div.sk-text-repr-fallback {display: none;}</style><div id=\"sk-container-id-19\" class=\"sk-top-container\"><div class=\"sk-text-repr-fallback\"><pre>MLPRegressor(hidden_layer_sizes=[1024, 512, 256, 128, 64, 32, 64, 128, 256, 512,\n",
       "                                 1024],\n",
       "             max_iter=10000)</pre><b>In a Jupyter environment, please rerun this cell to show the HTML representation or trust the notebook. <br />On GitHub, the HTML representation is unable to render, please try loading this page with nbviewer.org.</b></div><div class=\"sk-container\" hidden><div class=\"sk-item\"><div class=\"sk-estimator sk-toggleable\"><input class=\"sk-toggleable__control sk-hidden--visually\" id=\"sk-estimator-id-19\" type=\"checkbox\" checked><label for=\"sk-estimator-id-19\" class=\"sk-toggleable__label sk-toggleable__label-arrow\">MLPRegressor</label><div class=\"sk-toggleable__content\"><pre>MLPRegressor(hidden_layer_sizes=[1024, 512, 256, 128, 64, 32, 64, 128, 256, 512,\n",
       "                                 1024],\n",
       "             max_iter=10000)</pre></div></div></div></div></div>"
      ],
      "text/plain": [
       "MLPRegressor(hidden_layer_sizes=[1024, 512, 256, 128, 64, 32, 64, 128, 256, 512,\n",
       "                                 1024],\n",
       "             max_iter=10000)"
      ]
     },
     "execution_count": 88,
     "metadata": {},
     "output_type": "execute_result"
    }
   ],
   "source": [
    "from sklearn.neural_network import MLPRegressor\n",
    "\n",
    "# layers = list(map(lambda x : int(x), np.logspace(16, 8, num = 9, base=2)))\n",
    "# layers.extend(list(map(lambda x : int(x), np.logspace(7, 7, num = 3, base=2))))\n",
    "# layers.extend(list(map(lambda x : int(x), np.logspace(6, 5, num = 2, base=2))))\n",
    "# layers.extend(list(map(lambda x : int(x), np.logspace(6, 6, num = 1, base=2))))\n",
    "# layers.extend(list(map(lambda x : int(x), np.logspace(7, 7, num = 3, base=2))))\n",
    "# layers.extend(list(map(lambda x : int(x), np.logspace(8, 16, num = 9, base=2))))\n",
    "\n",
    "layers = list(map(lambda x : int(x), np.logspace(10, 5, num = 6, base=2)))\n",
    "layers.extend(list(map(lambda x : int(x), np.logspace(6, 10, num = 5, base=2))))\n",
    "model_MLP = MLPRegressor(hidden_layer_sizes=(layers), max_iter=10000)\n",
    "model_MLP.fit(train_set_features, train_set_targets)"
   ]
  },
  {
   "cell_type": "code",
   "execution_count": 89,
   "metadata": {},
   "outputs": [
    {
     "data": {
      "text/html": [
       "<style>#sk-container-id-20 {color: black;background-color: white;}#sk-container-id-20 pre{padding: 0;}#sk-container-id-20 div.sk-toggleable {background-color: white;}#sk-container-id-20 label.sk-toggleable__label {cursor: pointer;display: block;width: 100%;margin-bottom: 0;padding: 0.3em;box-sizing: border-box;text-align: center;}#sk-container-id-20 label.sk-toggleable__label-arrow:before {content: \"▸\";float: left;margin-right: 0.25em;color: #696969;}#sk-container-id-20 label.sk-toggleable__label-arrow:hover:before {color: black;}#sk-container-id-20 div.sk-estimator:hover label.sk-toggleable__label-arrow:before {color: black;}#sk-container-id-20 div.sk-toggleable__content {max-height: 0;max-width: 0;overflow: hidden;text-align: left;background-color: #f0f8ff;}#sk-container-id-20 div.sk-toggleable__content pre {margin: 0.2em;color: black;border-radius: 0.25em;background-color: #f0f8ff;}#sk-container-id-20 input.sk-toggleable__control:checked~div.sk-toggleable__content {max-height: 200px;max-width: 100%;overflow: auto;}#sk-container-id-20 input.sk-toggleable__control:checked~label.sk-toggleable__label-arrow:before {content: \"▾\";}#sk-container-id-20 div.sk-estimator input.sk-toggleable__control:checked~label.sk-toggleable__label {background-color: #d4ebff;}#sk-container-id-20 div.sk-label input.sk-toggleable__control:checked~label.sk-toggleable__label {background-color: #d4ebff;}#sk-container-id-20 input.sk-hidden--visually {border: 0;clip: rect(1px 1px 1px 1px);clip: rect(1px, 1px, 1px, 1px);height: 1px;margin: -1px;overflow: hidden;padding: 0;position: absolute;width: 1px;}#sk-container-id-20 div.sk-estimator {font-family: monospace;background-color: #f0f8ff;border: 1px dotted black;border-radius: 0.25em;box-sizing: border-box;margin-bottom: 0.5em;}#sk-container-id-20 div.sk-estimator:hover {background-color: #d4ebff;}#sk-container-id-20 div.sk-parallel-item::after {content: \"\";width: 100%;border-bottom: 1px solid gray;flex-grow: 1;}#sk-container-id-20 div.sk-label:hover label.sk-toggleable__label {background-color: #d4ebff;}#sk-container-id-20 div.sk-serial::before {content: \"\";position: absolute;border-left: 1px solid gray;box-sizing: border-box;top: 0;bottom: 0;left: 50%;z-index: 0;}#sk-container-id-20 div.sk-serial {display: flex;flex-direction: column;align-items: center;background-color: white;padding-right: 0.2em;padding-left: 0.2em;position: relative;}#sk-container-id-20 div.sk-item {position: relative;z-index: 1;}#sk-container-id-20 div.sk-parallel {display: flex;align-items: stretch;justify-content: center;background-color: white;position: relative;}#sk-container-id-20 div.sk-item::before, #sk-container-id-20 div.sk-parallel-item::before {content: \"\";position: absolute;border-left: 1px solid gray;box-sizing: border-box;top: 0;bottom: 0;left: 50%;z-index: -1;}#sk-container-id-20 div.sk-parallel-item {display: flex;flex-direction: column;z-index: 1;position: relative;background-color: white;}#sk-container-id-20 div.sk-parallel-item:first-child::after {align-self: flex-end;width: 50%;}#sk-container-id-20 div.sk-parallel-item:last-child::after {align-self: flex-start;width: 50%;}#sk-container-id-20 div.sk-parallel-item:only-child::after {width: 0;}#sk-container-id-20 div.sk-dashed-wrapped {border: 1px dashed gray;margin: 0 0.4em 0.5em 0.4em;box-sizing: border-box;padding-bottom: 0.4em;background-color: white;}#sk-container-id-20 div.sk-label label {font-family: monospace;font-weight: bold;display: inline-block;line-height: 1.2em;}#sk-container-id-20 div.sk-label-container {text-align: center;}#sk-container-id-20 div.sk-container {/* jupyter's `normalize.less` sets `[hidden] { display: none; }` but bootstrap.min.css set `[hidden] { display: none !important; }` so we also need the `!important` here to be able to override the default hidden behavior on the sphinx rendered scikit-learn.org. See: https://github.com/scikit-learn/scikit-learn/issues/21755 */display: inline-block !important;position: relative;}#sk-container-id-20 div.sk-text-repr-fallback {display: none;}</style><div id=\"sk-container-id-20\" class=\"sk-top-container\"><div class=\"sk-text-repr-fallback\"><pre>LinearRegression()</pre><b>In a Jupyter environment, please rerun this cell to show the HTML representation or trust the notebook. <br />On GitHub, the HTML representation is unable to render, please try loading this page with nbviewer.org.</b></div><div class=\"sk-container\" hidden><div class=\"sk-item\"><div class=\"sk-estimator sk-toggleable\"><input class=\"sk-toggleable__control sk-hidden--visually\" id=\"sk-estimator-id-20\" type=\"checkbox\" checked><label for=\"sk-estimator-id-20\" class=\"sk-toggleable__label sk-toggleable__label-arrow\">LinearRegression</label><div class=\"sk-toggleable__content\"><pre>LinearRegression()</pre></div></div></div></div></div>"
      ],
      "text/plain": [
       "LinearRegression()"
      ]
     },
     "execution_count": 89,
     "metadata": {},
     "output_type": "execute_result"
    }
   ],
   "source": [
    "from sklearn.linear_model import LinearRegression\n",
    "\n",
    "model_Linear = LinearRegression()\n",
    "model_Linear.fit(train_set_features, train_set_targets)"
   ]
  },
  {
   "cell_type": "markdown",
   "metadata": {},
   "source": [
    "## 4. 测试模型\n"
   ]
  },
  {
   "cell_type": "code",
   "execution_count": 90,
   "metadata": {},
   "outputs": [
    {
     "name": "stdout",
     "output_type": "stream",
     "text": [
      "train_MAPE: 0.5126183469301555\n",
      "train_acc: 0.746875836225799\n",
      "test_MAPE: 0.5328613379114857\n",
      "test_acc: 0.8275007298840821\n"
     ]
    }
   ],
   "source": [
    "train_set_predict = model_MLP.predict(train_set_features)\n",
    "test_set_predict = model_MLP.predict(test_set_features)\n",
    "\n",
    "train_MAPE = 1-np.mean(abs(train_set_predict-train_set_targets)/train_set_targets)\n",
    "train_acc = model_MLP.score(train_set_features, train_set_targets)\n",
    "\n",
    "test_MAPE = 1-np.mean(abs(test_set_predict-test_set_targets)/test_set_targets)\n",
    "test_acc = model_MLP.score(test_set_features, test_set_targets)\n",
    "\n",
    "print(f'train_MAPE: {train_MAPE}')\n",
    "print(f'train_acc: {train_acc}')\n",
    "print(f'test_MAPE: {test_MAPE}')\n",
    "print(f'test_acc: {test_acc}') "
   ]
  },
  {
   "cell_type": "markdown",
   "metadata": {},
   "source": [
    "## 5. 尝试分析结果"
   ]
  },
  {
   "cell_type": "code",
   "execution_count": 92,
   "metadata": {},
   "outputs": [
    {
     "name": "stdout",
     "output_type": "stream",
     "text": [
      "[1024, 512, 256, 128, 64, 32, 64, 128, 256, 512, 1024]\n"
     ]
    },
    {
     "data": {
      "text/plain": [
       "(array([ 3496.,  5836.,   763.,  7255., 17482.,  4435.,  2862.,  1931.,\n",
       "         1775.,  2121., 10161.,  5007.,  7204., 52012.,  2520.,  4705.,\n",
       "         1672., 13932.,  3000.,  3299.,  4107.,  2583.,  5855.,  1097.,\n",
       "        21952.,  1542.,  3539.,  1607.,  1517.,  4539.,  3721.,  5739.,\n",
       "         3619.,  5351.,  4644., 13824.,  4987., 10829.,  1019.,  1829.,\n",
       "         2132.,  2394.,  1214.,   707.,  3141.,  8231.,  1457.,  8352.,\n",
       "         1560.,  2551.]),\n",
       " array([ 9055,  9496,  3510, 11208,  7926,  4771,  3084,  3251,  6294,\n",
       "         5629, 17689,  8721, 21723, 51882,  3423, 10258,  2870, 16228,\n",
       "         4384,  3136,  3574,  2493, 13566,  3056,  8439,  2535,  4568,\n",
       "         3108,  2525,  5723,  3310,  9790,  3562,  5686,  5940, 10552,\n",
       "         4172,  3462,  2978,  2605,  2781,  7162,  2733,  3363,  2442,\n",
       "         4171,  6347,  9550,  4066,  2461], dtype=int64))"
      ]
     },
     "execution_count": 92,
     "metadata": {},
     "output_type": "execute_result"
    }
   ],
   "source": [
    "# any plotting if you want\n",
    "print(layers)\n",
    "\n",
    "np.around(train_set_predict[:50]) ,train_set_targets[:50]\n",
    "# test_set_predict"
   ]
  }
 ],
 "metadata": {
  "kernelspec": {
   "display_name": "Python 3.10.6 64-bit",
   "language": "python",
   "name": "python3"
  },
  "language_info": {
   "codemirror_mode": {
    "name": "ipython",
    "version": 3
   },
   "file_extension": ".py",
   "mimetype": "text/x-python",
   "name": "python",
   "nbconvert_exporter": "python",
   "pygments_lexer": "ipython3",
   "version": "3.10.6"
  },
  "orig_nbformat": 4,
  "vscode": {
   "interpreter": {
    "hash": "3196968d684371006099b3d55edeef8ed90365227a30deaef86e5d4aa8519be0"
   }
  }
 },
 "nbformat": 4,
 "nbformat_minor": 2
}
