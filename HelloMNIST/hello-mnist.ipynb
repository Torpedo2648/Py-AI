{
 "cells": [
  {
   "cell_type": "markdown",
   "metadata": {},
   "source": [
    "# Hello MNIST\n",
    "\n",
    "MNIST has been the most popular \"Hello World\" project for AI researchers for a while."
   ]
  },
  {
   "cell_type": "markdown",
   "metadata": {},
   "source": [
    "## Retrieve the data\n",
    "\n",
    "The data is provided by the [MNIST](http://yann.lecun.com/exdb/mnist/) project.\n",
    "To simplify the the experiment, we will be using the `npy` in `zip` file provided."
   ]
  },
  {
   "cell_type": "code",
   "execution_count": 3,
   "metadata": {},
   "outputs": [
    {
     "ename": "SyntaxError",
     "evalue": "invalid syntax (2799287240.py, line 1)",
     "output_type": "error",
     "traceback": [
      "\u001b[1;36m  Input \u001b[1;32mIn [3]\u001b[1;36m\u001b[0m\n\u001b[1;33m    unzip hello-mnist.zip\u001b[0m\n\u001b[1;37m          ^\u001b[0m\n\u001b[1;31mSyntaxError\u001b[0m\u001b[1;31m:\u001b[0m invalid syntax\n"
     ]
    }
   ],
   "source": [
    "unzip hello-mnist.zip"
   ]
  },
  {
   "cell_type": "markdown",
   "metadata": {},
   "source": [
    "### Prepare data\n",
    "\n",
    "The four `npy` files contains the training set data, targets, and the test set data, targets."
   ]
  },
  {
   "cell_type": "code",
   "execution_count": 4,
   "metadata": {},
   "outputs": [
    {
     "data": {
      "text/plain": [
       "(60000, 28, 28)"
      ]
     },
     "execution_count": 4,
     "metadata": {},
     "output_type": "execute_result"
    }
   ],
   "source": [
    "import numpy as np\n",
    "\n",
    "train_data = np.load(\"hello-mnist/train_data.npy\")\n",
    "train_targets = np.load(\"hello-mnist/train_targets.npy\")\n",
    "test_data = np.load(\"hello-mnist/test_data.npy\")\n",
    "test_targets = np.load(\"hello-mnist/test_targets.npy\")\n",
    "\n",
    "train_data.shape"
   ]
  },
  {
   "cell_type": "code",
   "execution_count": 5,
   "metadata": {},
   "outputs": [
    {
     "data": {
      "text/plain": [
       "<matplotlib.image.AxesImage at 0x1a3caa9f940>"
      ]
     },
     "execution_count": 5,
     "metadata": {},
     "output_type": "execute_result"
    },
    {
     "data": {
      "image/png": "[encoded data removed]",
      "text/plain": [
       "<Figure size 432x288 with 1 Axes>"
      ]
     },
     "metadata": {
      "needs_background": "light"
     },
     "output_type": "display_data"
    }
   ],
   "source": [
    "from matplotlib import pyplot as plt\n",
    "\n",
    "plt.imshow(train_data[100])"
   ]
  },
  {
   "cell_type": "markdown",
   "metadata": {},
   "source": [
    "### Vectorize\n",
    "\n",
    "One thing to be noticed is that the data is stored as tensor of shape $n \\times 28 \\times 28$ while we want to vectorized the $28 \\times 28$ images into $784$-dim  vectors."
   ]
  },
  {
   "cell_type": "code",
   "execution_count": 6,
   "metadata": {},
   "outputs": [],
   "source": [
    "train_data = train_data.reshape(60000, 28 * 28)\n",
    "test_data = test_data.reshape(10000, 28 * 28)"
   ]
  },
  {
   "cell_type": "markdown",
   "metadata": {},
   "source": [
    "## Perceptron\n",
    "\n",
    "Now let's play with the perceptron. It is simple and fast, but do not expect a good accuracy."
   ]
  },
  {
   "cell_type": "code",
   "execution_count": 7,
   "metadata": {},
   "outputs": [
    {
     "data": {
      "text/plain": [
       "(0.8962333333333333, 0.8897)"
      ]
     },
     "execution_count": 7,
     "metadata": {},
     "output_type": "execute_result"
    }
   ],
   "source": [
    "from sklearn.linear_model import Perceptron\n",
    "\n",
    "net = Perceptron(max_iter=1000)\n",
    "\n",
    "# your code here\n",
    "net.fit(train_data, train_targets)\n",
    "# train the network\n",
    "train_acc = net.score(train_data, train_targets)\n",
    "# test the network\n",
    "test_acc = net.score(test_data, test_targets)\n",
    "\n",
    "train_acc, test_acc"
   ]
  },
  {
   "cell_type": "code",
   "execution_count": 8,
   "metadata": {},
   "outputs": [
    {
     "data": {
      "text/plain": [
       "array([5], dtype=int64)"
      ]
     },
     "execution_count": 8,
     "metadata": {},
     "output_type": "execute_result"
    }
   ],
   "source": [
    "net.predict(train_data[100].reshape(1,-1))"
   ]
  },
  {
   "cell_type": "markdown",
   "metadata": {},
   "source": [
    "## Multilayer perceptron (MLP)\n",
    "\n",
    "Now it is time to use the MLP. It is a good starting point for the deep learning. Training could take a while. Be patient and it deserves the time."
   ]
  },
  {
   "cell_type": "code",
   "execution_count": 9,
   "metadata": {},
   "outputs": [
    {
     "data": {
      "text/plain": [
       "(0.9966666666666667, 0.9741)"
      ]
     },
     "execution_count": 9,
     "metadata": {},
     "output_type": "execute_result"
    }
   ],
   "source": [
    "from sklearn.neural_network import MLPClassifier\n",
    "\n",
    "net = MLPClassifier(hidden_layer_sizes=(100, 100), max_iter=1000)\n",
    "\n",
    "# your code here\n",
    "net.fit(train_data, train_targets)\n",
    "# train the network\n",
    "train_acc = net.score(train_data, train_targets)\n",
    "# test the network\n",
    "test_acc = net.score(test_data, test_targets)\n",
    "\n",
    "train_acc, test_acc"
   ]
  },
  {
   "cell_type": "markdown",
   "metadata": {},
   "source": [
    "## Odds and Evens\n",
    "\n",
    "Now let\\'s change the setting a bit: to predict whether a number is odd or even."
   ]
  },
  {
   "cell_type": "markdown",
   "metadata": {},
   "source": [
    "### Prepare the data\n",
    "\n",
    "First, we need to prepare the data. Just the targets:\n",
    "\n",
    "- `0` for evens\n",
    "- `1` for odds"
   ]
  },
  {
   "cell_type": "code",
   "execution_count": 5,
   "metadata": {},
   "outputs": [],
   "source": [
    "# 0 - evens, 1 - odds\n",
    "new_train_targets = None # replace with your code to get the new targets\n",
    "new_test_targets = None # replace with your code to get the new targets"
   ]
  },
  {
   "cell_type": "markdown",
   "metadata": {},
   "source": [
    "### Train and test\n",
    "\n",
    "Now, just try it again with the new targets."
   ]
  },
  {
   "cell_type": "code",
   "execution_count": 11,
   "metadata": {},
   "outputs": [
    {
     "data": {
      "text/plain": [
       "0.8573"
      ]
     },
     "execution_count": 11,
     "metadata": {},
     "output_type": "execute_result"
    }
   ],
   "source": [
    "from sklearn.linear_model import Perceptron\n",
    "\n",
    "net = Perceptron(max_iter=1000)\n",
    "\n",
    "# your code here\n",
    "# train the network with new targets\n",
    "# test the network with new targets"
   ]
  },
  {
   "cell_type": "code",
   "execution_count": 12,
   "metadata": {},
   "outputs": [
    {
     "data": {
      "text/plain": [
       "0.9878"
      ]
     },
     "execution_count": 12,
     "metadata": {},
     "output_type": "execute_result"
    }
   ],
   "source": [
    "from sklearn.neural_network import MLPClassifier\n",
    "\n",
    "net = MLPClassifier(hidden_layer_sizes=(100, 100), max_iter=1000)\n",
    "\n",
    "# your code here\n",
    "# train the network with new targets\n",
    "# test the network with new targets"
   ]
  },
  {
   "cell_type": "markdown",
   "metadata": {},
   "source": [
    "## Results and Discussion\n",
    "\n",
    "Please describe the results and try to explain why?"
   ]
  }
 ],
 "metadata": {
  "kernelspec": {
   "display_name": "Python 3.9.12 ('base')",
   "language": "python",
   "name": "python3"
  },
  "language_info": {
   "codemirror_mode": {
    "name": "ipython",
    "version": 3
   },
   "file_extension": ".py",
   "mimetype": "text/x-python",
   "name": "python",
   "nbconvert_exporter": "python",
   "pygments_lexer": "ipython3",
   "version": "3.9.12"
  },
  "vscode": {
   "interpreter": {
    "hash": "0bb2a65585ff5a8f5f3ffb595fa8ec7d90894bbaf99caac74ba4144cd9a3ae49"
   }
  }
 },
 "nbformat": 4,
 "nbformat_minor": 4
}
