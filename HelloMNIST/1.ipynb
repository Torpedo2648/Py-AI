{
 "cells": [
  {
   "cell_type": "code",
   "execution_count": 2,
   "metadata": {},
   "outputs": [
    {
     "name": "stdout",
     "output_type": "stream",
     "text": [
      "115\n",
      "8\n"
     ]
    }
   ],
   "source": [
    "a=52\n",
    "b=62\n",
    "c=b+1\n",
    "print(eval(\"a+c\"))\n",
    "\n",
    "self=0\n",
    "int32=8\n",
    "print(int32)"
   ]
  }
 ],
 "metadata": {
  "kernelspec": {
   "display_name": "Python 3.9.13 ('tensorflow')",
   "language": "python",
   "name": "python3"
  },
  "language_info": {
   "codemirror_mode": {
    "name": "ipython",
    "version": 3
   },
   "file_extension": ".py",
   "mimetype": "text/x-python",
   "name": "python",
   "nbconvert_exporter": "python",
   "pygments_lexer": "ipython3",
   "version": "3.9.13"
  },
  "orig_nbformat": 4,
  "vscode": {
   "interpreter": {
    "hash": "9adbd09fa4afe713d5b1ec35ed509c919e7dba8252c70607735892e0c2ff5ff9"
   }
  }
 },
 "nbformat": 4,
 "nbformat_minor": 2
}
