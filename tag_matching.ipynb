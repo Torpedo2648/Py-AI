{
 "cells": [
  {
   "cell_type": "markdown",
   "metadata": {},
   "source": [
    "## 名人名言管理员\n",
    "“虽然不能写出名人名言，但是为了成为对社会有价值的人，我成为了名人名言管理员。 新录入的名言如何加标签呢？让Python来帮我吧。”"
   ]
  },
  {
   "cell_type": "markdown",
   "metadata": {},
   "source": [
    "### 分库\n",
    "将爬取到的100条名人名言（spider_items.jl）分为80条“已入库”stocked_in和20条“新入库”new_arrival。"
   ]
  },
  {
   "cell_type": "code",
   "execution_count": 28,
   "metadata": {},
   "outputs": [],
   "source": [
    "import pandas as pd\n",
    "from collections import Counter\n",
    "\n",
    "df = pd.read_json('spider_items.jl', lines=True)\n",
    "\n",
    "stocked_in = df[:80]\n",
    "new_arrival = df[80:].reindex()\n",
    "del new_arrival['tags']"
   ]
  },
  {
   "cell_type": "markdown",
   "metadata": {},
   "source": [
    "### 统计词频\n",
    "选出已入库名言中最常出现的100个单词top_words作为词频属性。"
   ]
  },
  {
   "cell_type": "code",
   "execution_count": 29,
   "metadata": {},
   "outputs": [
    {
     "name": "stdout",
     "output_type": "stream",
     "text": [
      "('you', 70) ('is', 59) ('to', 54) ('a', 47) ('the', 36) ('of', 33) ('and', 33) ('not', 29) ('I', 28) ('that', 23) ('it', 22) ('be', 22) ('in', 22) ('your', 18) ('but', 17) ('can', 15) ('have', 13) ('who', 13) ('will', 12) ('as', 11) ('what', 11) ('are', 11) ('or', 11) ('all', 11) ('“The', 10) ('with', 10) ('love', 10) ('think', 10) ('my', 10) ('more', 9) (\"it's\", 9) ('“I', 9) ('never', 9) ('make', 9) ('up', 9) ('her', 9) ('she', 9) ('no', 9) ('for', 8) ('do', 8) ('we', 7) ('“It', 7) ('than', 7) ('only', 7) ('The', 7) ('like', 7) ('going', 7) ('But', 7) ('if', 7) ('so', 7) ('“If', 7) ('may', 7) ('one', 7) ('our', 6) ('without', 6) ('live', 6) ('just', 6) ('them', 6) ('give', 6) ('because', 6) ('at', 6) (\"don't\", 6) ('when', 6) ('good', 5) ('must', 5) ('-', 5) (\"doesn't\", 5) ('keep', 5) ('“You', 5) ('from', 5) ('“There', 4) ('nothing', 4) ('man', 4) ('“A', 4) ('know', 4) (\"you're\", 4) ('get', 4) ('let', 4) ('find', 4) ('makes', 4) ('great', 4) ('about', 4) ('every', 4) ('opposite', 4) ('happens', 4) ('which', 4) ('time', 4) ('read', 4) ('everyone', 4) ('lives', 4) ('people', 4) ('am', 4) ('an', 4) ('world', 3) ('other', 3) ('has', 3) ('genius', 3) ('become', 3) ('day', 3) ('life', 3)\n"
     ]
    }
   ],
   "source": [
    "from collections import Counter\n",
    "\n",
    "counter = Counter()\n",
    "for _, row in stocked_in.iterrows():\n",
    "    counter.update(row['text'].split())\n",
    "    \n",
    "print(*counter.most_common(100))\n",
    "top_words, _ = zip(*counter.most_common(100))\n",
    "# top_words"
   ]
  },
  {
   "cell_type": "markdown",
   "metadata": {},
   "source": [
    "建立创建词频向量的函数build_word_count_vector()，并对已入库的数据进行计算，获得词频向量，并组成矩阵word_count_matrix。"
   ]
  },
  {
   "cell_type": "code",
   "execution_count": 39,
   "metadata": {},
   "outputs": [],
   "source": [
    "import numpy as np\n",
    "\n",
    "def build_word_count_vector(word_counts): # 传入参数是一个字典（计数器）\n",
    "    vector = [word_counts.get(word,0) for word in top_words]\n",
    "    return np.array(vector)"
   ]
  },
  {
   "cell_type": "code",
   "execution_count": 97,
   "metadata": {},
   "outputs": [
    {
     "data": {
      "text/plain": [
       "array([[0, 1, 0, ..., 0, 0, 0],\n",
       "       [0, 1, 0, ..., 0, 0, 0],\n",
       "       [0, 4, 1, ..., 0, 0, 0],\n",
       "       ...,\n",
       "       [0, 0, 0, ..., 0, 0, 0],\n",
       "       [0, 2, 2, ..., 0, 0, 0],\n",
       "       [0, 0, 0, ..., 0, 0, 0]])"
      ]
     },
     "execution_count": 97,
     "metadata": {},
     "output_type": "execute_result"
    }
   ],
   "source": [
    "vectors = [build_word_count_vector(Counter(row['text'].split())) for _, row in stocked_in.iterrows()]\n",
    "\n",
    "# print(vectors)\n",
    "word_count_matrix = np.stack(vectors, axis=0)\n",
    "word_count_matrix"
   ]
  },
  {
   "cell_type": "markdown",
   "metadata": {},
   "source": [
    "### 归一化\n",
    "计算每行（一个向量）的平方和，是每个元素乘以平方和的倒数，那么新向量的每个元素的平方和即为1。"
   ]
  },
  {
   "cell_type": "code",
   "execution_count": 101,
   "metadata": {},
   "outputs": [
    {
     "data": {
      "text/plain": [
       "array([[0.        , 0.25819889, 0.        , ..., 0.        , 0.        ,\n",
       "        0.        ],\n",
       "       [0.        , 0.30151134, 0.        , ..., 0.        , 0.        ,\n",
       "        0.        ],\n",
       "       [0.        , 0.69631062, 0.17407766, ..., 0.        , 0.        ,\n",
       "        0.        ],\n",
       "       ...,\n",
       "       [0.        , 0.        , 0.        , ..., 0.        , 0.        ,\n",
       "        0.        ],\n",
       "       [0.        , 0.45883147, 0.45883147, ..., 0.        , 0.        ,\n",
       "        0.        ],\n",
       "       [0.        , 0.        , 0.        , ..., 0.        , 0.        ,\n",
       "        0.        ]])"
      ]
     },
     "execution_count": 101,
     "metadata": {},
     "output_type": "execute_result"
    }
   ],
   "source": [
    "word_count_matrix = word_count_matrix / (np.sum(word_count_matrix**2, axis=1)**0.5).reshape(80,1)\n",
    "word_count_matrix"
   ]
  },
  {
   "cell_type": "markdown",
   "metadata": {},
   "source": [
    "### 自动标签\n",
    "统计每条名言词频，为每条“新入库”名言找到词频内积相似性（点乘）最高的名言，并将其标签用作这条“新入库”条名言的标签，将其填入tags字段中。"
   ]
  },
  {
   "cell_type": "code",
   "execution_count": 114,
   "metadata": {},
   "outputs": [],
   "source": [
    "new_tags = []\n",
    "for _, row in new_arrival.iterrows():\n",
    "    word_count = build_word_count_vector(Counter(row['text'].split()))\n",
    "    sim_vector = word_count_matrix @ word_count.reshape(-1,1)\n",
    "    most_sim = int(np.argmax(sim_vector))\n",
    "    row_tags = stocked_in.iloc[most_sim]['tags']\n",
    "    new_tags.append(row_tags)\n",
    "\n",
    "new_arrival['tags'] = new_tags"
   ]
  },
  {
   "cell_type": "markdown",
   "metadata": {},
   "source": [
    "### 结果\n",
    "（由于该数据集比较随机，结果可能与实际情况不太一致，这里不比较正确性。）"
   ]
  },
  {
   "cell_type": "code",
   "execution_count": 34,
   "metadata": {},
   "outputs": [
    {
     "data": {
      "text/html": [
       "<div>\n",
       "<style scoped>\n",
       "    .dataframe tbody tr th:only-of-type {\n",
       "        vertical-align: middle;\n",
       "    }\n",
       "\n",
       "    .dataframe tbody tr th {\n",
       "        vertical-align: top;\n",
       "    }\n",
       "\n",
       "    .dataframe thead th {\n",
       "        text-align: right;\n",
       "    }\n",
       "</style>\n",
       "<table border=\"1\" class=\"dataframe\">\n",
       "  <thead>\n",
       "    <tr style=\"text-align: right;\">\n",
       "      <th></th>\n",
       "      <th>text</th>\n",
       "      <th>author</th>\n",
       "      <th>tags</th>\n",
       "    </tr>\n",
       "  </thead>\n",
       "  <tbody>\n",
       "    <tr>\n",
       "      <th>80</th>\n",
       "      <td>“Anyone who has never made a mistake has never...</td>\n",
       "      <td>Albert Einstein</td>\n",
       "      <td>[books, inspirational, reading, tea]</td>\n",
       "    </tr>\n",
       "    <tr>\n",
       "      <th>81</th>\n",
       "      <td>“A lady's imagination is very rapid; it jumps ...</td>\n",
       "      <td>Jane Austen</td>\n",
       "      <td>[humor]</td>\n",
       "    </tr>\n",
       "    <tr>\n",
       "      <th>82</th>\n",
       "      <td>“Remember, if the time should come when you ha...</td>\n",
       "      <td>J.K. Rowling</td>\n",
       "      <td>[books, contentment, friends, friendship, life]</td>\n",
       "    </tr>\n",
       "    <tr>\n",
       "      <th>83</th>\n",
       "      <td>“I declare after all there is no enjoyment lik...</td>\n",
       "      <td>Jane Austen</td>\n",
       "      <td>[music]</td>\n",
       "    </tr>\n",
       "    <tr>\n",
       "      <th>84</th>\n",
       "      <td>“There are few people whom I really love, and ...</td>\n",
       "      <td>Jane Austen</td>\n",
       "      <td>[the-hunger-games]</td>\n",
       "    </tr>\n",
       "    <tr>\n",
       "      <th>85</th>\n",
       "      <td>“Some day you will be old enough to start read...</td>\n",
       "      <td>C.S. Lewis</td>\n",
       "      <td>[imagination]</td>\n",
       "    </tr>\n",
       "    <tr>\n",
       "      <th>86</th>\n",
       "      <td>“We are not necessarily doubting that God will...</td>\n",
       "      <td>C.S. Lewis</td>\n",
       "      <td>[inspirational]</td>\n",
       "    </tr>\n",
       "    <tr>\n",
       "      <th>87</th>\n",
       "      <td>“The fear of death follows from the fear of li...</td>\n",
       "      <td>Mark Twain</td>\n",
       "      <td>[the-hunger-games]</td>\n",
       "    </tr>\n",
       "    <tr>\n",
       "      <th>88</th>\n",
       "      <td>“A lie can travel half way around the world wh...</td>\n",
       "      <td>Mark Twain</td>\n",
       "      <td>[death, inspirational]</td>\n",
       "    </tr>\n",
       "    <tr>\n",
       "      <th>89</th>\n",
       "      <td>“I believe in Christianity as I believe that t...</td>\n",
       "      <td>C.S. Lewis</td>\n",
       "      <td>[humor, insanity, lies, lying, self-indulgence...</td>\n",
       "    </tr>\n",
       "    <tr>\n",
       "      <th>90</th>\n",
       "      <td>“The truth.\" Dumbledore sighed. \"It is a beaut...</td>\n",
       "      <td>J.K. Rowling</td>\n",
       "      <td>[life, regrets]</td>\n",
       "    </tr>\n",
       "    <tr>\n",
       "      <th>91</th>\n",
       "      <td>“I'm the one that's got to die when it's time ...</td>\n",
       "      <td>Jimi Hendrix</td>\n",
       "      <td>[humor, insanity, lies, lying, self-indulgence...</td>\n",
       "    </tr>\n",
       "    <tr>\n",
       "      <th>92</th>\n",
       "      <td>“To die will be an awfully big adventure.”</td>\n",
       "      <td>J.M. Barrie</td>\n",
       "      <td>[love]</td>\n",
       "    </tr>\n",
       "    <tr>\n",
       "      <th>93</th>\n",
       "      <td>“It takes courage to grow up and become who yo...</td>\n",
       "      <td>E.E. Cummings</td>\n",
       "      <td>[friends, heartbreak, inspirational, life, lov...</td>\n",
       "    </tr>\n",
       "    <tr>\n",
       "      <th>94</th>\n",
       "      <td>“But better to get hurt by the truth than comf...</td>\n",
       "      <td>Khaled Hosseini</td>\n",
       "      <td>[books, inspirational, reading, tea]</td>\n",
       "    </tr>\n",
       "    <tr>\n",
       "      <th>95</th>\n",
       "      <td>“You never really understand a person until yo...</td>\n",
       "      <td>Harper Lee</td>\n",
       "      <td>[happiness]</td>\n",
       "    </tr>\n",
       "    <tr>\n",
       "      <th>96</th>\n",
       "      <td>“You have to write the book that wants to be w...</td>\n",
       "      <td>Madeleine L'Engle</td>\n",
       "      <td>[life, love]</td>\n",
       "    </tr>\n",
       "    <tr>\n",
       "      <th>97</th>\n",
       "      <td>“Never tell the truth to people who are not wo...</td>\n",
       "      <td>Mark Twain</td>\n",
       "      <td>[the-hunger-games]</td>\n",
       "    </tr>\n",
       "    <tr>\n",
       "      <th>98</th>\n",
       "      <td>“A person's a person, no matter how small.”</td>\n",
       "      <td>Dr. Seuss</td>\n",
       "      <td>[books, friends, novelist-quotes]</td>\n",
       "    </tr>\n",
       "    <tr>\n",
       "      <th>99</th>\n",
       "      <td>“... a mind needs books as a sword needs a whe...</td>\n",
       "      <td>George R.R. Martin</td>\n",
       "      <td>[love]</td>\n",
       "    </tr>\n",
       "  </tbody>\n",
       "</table>\n",
       "</div>"
      ],
      "text/plain": [
       "                                                 text              author  \\\n",
       "80  “Anyone who has never made a mistake has never...     Albert Einstein   \n",
       "81  “A lady's imagination is very rapid; it jumps ...         Jane Austen   \n",
       "82  “Remember, if the time should come when you ha...        J.K. Rowling   \n",
       "83  “I declare after all there is no enjoyment lik...         Jane Austen   \n",
       "84  “There are few people whom I really love, and ...         Jane Austen   \n",
       "85  “Some day you will be old enough to start read...          C.S. Lewis   \n",
       "86  “We are not necessarily doubting that God will...          C.S. Lewis   \n",
       "87  “The fear of death follows from the fear of li...          Mark Twain   \n",
       "88  “A lie can travel half way around the world wh...          Mark Twain   \n",
       "89  “I believe in Christianity as I believe that t...          C.S. Lewis   \n",
       "90  “The truth.\" Dumbledore sighed. \"It is a beaut...        J.K. Rowling   \n",
       "91  “I'm the one that's got to die when it's time ...        Jimi Hendrix   \n",
       "92         “To die will be an awfully big adventure.”         J.M. Barrie   \n",
       "93  “It takes courage to grow up and become who yo...       E.E. Cummings   \n",
       "94  “But better to get hurt by the truth than comf...     Khaled Hosseini   \n",
       "95  “You never really understand a person until yo...          Harper Lee   \n",
       "96  “You have to write the book that wants to be w...   Madeleine L'Engle   \n",
       "97  “Never tell the truth to people who are not wo...          Mark Twain   \n",
       "98        “A person's a person, no matter how small.”           Dr. Seuss   \n",
       "99  “... a mind needs books as a sword needs a whe...  George R.R. Martin   \n",
       "\n",
       "                                                 tags  \n",
       "80               [books, inspirational, reading, tea]  \n",
       "81                                            [humor]  \n",
       "82    [books, contentment, friends, friendship, life]  \n",
       "83                                            [music]  \n",
       "84                                 [the-hunger-games]  \n",
       "85                                      [imagination]  \n",
       "86                                    [inspirational]  \n",
       "87                                 [the-hunger-games]  \n",
       "88                             [death, inspirational]  \n",
       "89  [humor, insanity, lies, lying, self-indulgence...  \n",
       "90                                    [life, regrets]  \n",
       "91  [humor, insanity, lies, lying, self-indulgence...  \n",
       "92                                             [love]  \n",
       "93  [friends, heartbreak, inspirational, life, lov...  \n",
       "94               [books, inspirational, reading, tea]  \n",
       "95                                        [happiness]  \n",
       "96                                       [life, love]  \n",
       "97                                 [the-hunger-games]  \n",
       "98                  [books, friends, novelist-quotes]  \n",
       "99                                             [love]  "
      ]
     },
     "execution_count": 34,
     "metadata": {},
     "output_type": "execute_result"
    }
   ],
   "source": [
    "new_arrival"
   ]
  }
 ],
 "metadata": {
  "kernelspec": {
   "display_name": "Python 3.9.12 ('base')",
   "language": "python",
   "name": "python3"
  },
  "language_info": {
   "codemirror_mode": {
    "name": "ipython",
    "version": 3
   },
   "file_extension": ".py",
   "mimetype": "text/x-python",
   "name": "python",
   "nbconvert_exporter": "python",
   "pygments_lexer": "ipython3",
   "version": "3.9.12"
  },
  "orig_nbformat": 4,
  "vscode": {
   "interpreter": {
    "hash": "0bb2a65585ff5a8f5f3ffb595fa8ec7d90894bbaf99caac74ba4144cd9a3ae49"
   }
  }
 },
 "nbformat": 4,
 "nbformat_minor": 2
}
