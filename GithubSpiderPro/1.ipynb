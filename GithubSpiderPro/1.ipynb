{
 "cells": [
  {
   "cell_type": "code",
   "execution_count": 4,
   "metadata": {},
   "outputs": [
    {
     "name": "stdout",
     "output_type": "stream",
     "text": [
      "['3', '229']\n",
      "3229\n"
     ]
    }
   ],
   "source": [
    "import re\n",
    "\n",
    "list = re.findall(\"\\d+\", '3,229+')\n",
    "issues = ''.join(list);\n",
    "print(list)\n",
    "print(issues)"
   ]
  }
 ],
 "metadata": {
  "kernelspec": {
   "display_name": "Python 3.9.12 ('base')",
   "language": "python",
   "name": "python3"
  },
  "language_info": {
   "codemirror_mode": {
    "name": "ipython",
    "version": 3
   },
   "file_extension": ".py",
   "mimetype": "text/x-python",
   "name": "python",
   "nbconvert_exporter": "python",
   "pygments_lexer": "ipython3",
   "version": "3.9.12"
  },
  "orig_nbformat": 4,
  "vscode": {
   "interpreter": {
    "hash": "0bb2a65585ff5a8f5f3ffb595fa8ec7d90894bbaf99caac74ba4144cd9a3ae49"
   }
  }
 },
 "nbformat": 4,
 "nbformat_minor": 2
}
