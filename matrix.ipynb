{
 "cells": [
  {
   "cell_type": "code",
   "execution_count": 8,
   "metadata": {},
   "outputs": [
    {
     "name": "stdout",
     "output_type": "stream",
     "text": [
      "int32\n",
      "4\n",
      "<memory at 0x0000024DDA64A5F0>\n"
     ]
    }
   ],
   "source": [
    "import numpy as np\n",
    "\n",
    "c = np.array([[1,2,3],\n",
    "             [4,5,6]])\n",
    "print(c.dtype)\n",
    "print(c.itemsize)\n",
    "print(c.data)"
   ]
  },
  {
   "cell_type": "code",
   "execution_count": 35,
   "metadata": {},
   "outputs": [
    {
     "name": "stdout",
     "output_type": "stream",
     "text": [
      "[[ 6  7  8]\n",
      " [ 9 10 11]]\n",
      "[1 1 1]\n"
     ]
    }
   ],
   "source": [
    "u = np.arange(6).reshape(2,3)\n",
    "v = np.arange(6,12).reshape(2,3)\n",
    "\n",
    "# print(u)\n",
    "print(v)\n",
    "\n",
    "# print(u @ u.T)\n",
    "\n",
    "print(v.argmax(axis=0))"
   ]
  },
  {
   "cell_type": "code",
   "execution_count": 45,
   "metadata": {},
   "outputs": [],
   "source": [
    "import pandas as pd\n",
    "from collections import Counter\n",
    "\n",
    "df = pd.read_json('spider_items.jl', lines=True)\n",
    "\n",
    "stocked_in = df[:80]\n",
    "new_arrival = df[80:].reindex()\n",
    "del new_arrival['tags']"
   ]
  },
  {
   "cell_type": "code",
   "execution_count": 58,
   "metadata": {},
   "outputs": [
    {
     "name": "stdout",
     "output_type": "stream",
     "text": [
      "Albert Einstein\n",
      "J.K. Rowling\n",
      "Albert Einstein\n",
      "Jane Austen\n",
      "Marilyn Monroe\n",
      "Albert Einstein\n",
      "André Gide\n",
      "Thomas A. Edison\n",
      "Eleanor Roosevelt\n",
      "Steve Martin\n",
      "Marilyn Monroe\n",
      "J.K. Rowling\n",
      "Albert Einstein\n",
      "Bob Marley\n",
      "Dr. Seuss\n",
      "Douglas Adams\n",
      "Elie Wiesel\n",
      "Friedrich Nietzsche\n",
      "Mark Twain\n",
      "Allen Saunders\n",
      "Pablo Neruda\n",
      "Ralph Waldo Emerson\n",
      "Mother Teresa\n",
      "Garrison Keillor\n",
      "Jim Henson\n",
      "Dr. Seuss\n",
      "Albert Einstein\n",
      "J.K. Rowling\n",
      "Albert Einstein\n",
      "Bob Marley\n",
      "Dr. Seuss\n",
      "J.K. Rowling\n",
      "Bob Marley\n",
      "Mother Teresa\n",
      "J.K. Rowling\n",
      "Charles M. Schulz\n",
      "William Nicholson\n",
      "Albert Einstein\n",
      "Jorge Luis Borges\n",
      "George Eliot\n",
      "George R.R. Martin\n",
      "C.S. Lewis\n",
      "Marilyn Monroe\n",
      "Marilyn Monroe\n",
      "Albert Einstein\n",
      "Marilyn Monroe\n",
      "Marilyn Monroe\n",
      "Martin Luther King Jr.\n",
      "J.K. Rowling\n",
      "James Baldwin\n",
      "Jane Austen\n",
      "Eleanor Roosevelt\n",
      "Marilyn Monroe\n",
      "Albert Einstein\n",
      "Haruki Murakami\n",
      "Alexandre Dumas fils\n",
      "Stephenie Meyer\n",
      "Ernest Hemingway\n",
      "Helen Keller\n",
      "George Bernard Shaw\n",
      "Charles Bukowski\n",
      "Suzanne Collins\n",
      "Suzanne Collins\n",
      "C.S. Lewis\n",
      "J.R.R. Tolkien\n",
      "J.K. Rowling\n",
      "Ernest Hemingway\n",
      "Ralph Waldo Emerson\n",
      "Mark Twain\n",
      "Dr. Seuss\n",
      "Alfred Tennyson\n",
      "Charles Bukowski\n",
      "Terry Pratchett\n",
      "Dr. Seuss\n",
      "J.D. Salinger\n",
      "George Carlin\n",
      "John Lennon\n",
      "W.C. Fields\n",
      "Ayn Rand\n",
      "Mark Twain\n"
     ]
    }
   ],
   "source": [
    "from collections import Counter\n",
    "\n",
    "# print(stocked_in['text'])\n",
    "counter = Counter()\n",
    "for item in stocked_in['author']:\n",
    "    print(item)\n",
    "\n",
    "top_words = None"
   ]
  }
 ],
 "metadata": {
  "kernelspec": {
   "display_name": "Python 3.9.12 ('base')",
   "language": "python",
   "name": "python3"
  },
  "language_info": {
   "name": "python",
   "version": "3.9.12"
  },
  "orig_nbformat": 4,
  "vscode": {
   "interpreter": {
    "hash": "0bb2a65585ff5a8f5f3ffb595fa8ec7d90894bbaf99caac74ba4144cd9a3ae49"
   }
  }
 },
 "nbformat": 4,
 "nbformat_minor": 2
}
